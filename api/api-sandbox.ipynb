{
 "cells": [
  {
   "cell_type": "code",
   "execution_count": 1,
   "metadata": {},
   "outputs": [],
   "source": [
    "import pandas as pd\n",
    "from joblib import dump\n",
    "import uvicorn\n",
    "from fastapi import FastAPI\n",
    "\n",
    "import numpy as np\n",
    "import pickle\n",
    "import pandas as pd\n",
    "\n",
    "\n",
    "import sys\n",
    "sys.path.insert(0, '../fraud-detector/')\n",
    "sys.path.insert(0, '../data')\n",
    "sys.path.insert(0, '../')\n",
    "\n",
    "import conf.scoring_conf as conf\n",
    "from utils import load_data_local\n",
    "from feateng import FeatPipeline\n",
    "import joblib\n",
    "\n",
    "###############################\n",
    "# 0. Variable Assignment\n",
    "###############################\n",
    "\n",
    "inpath = conf.toscore_inpath # input path of data to be scored\n",
    "intype = conf.toscore_intype # input path type of data to be scored\n",
    "model_chosen = conf.model_chosen\n",
    "\n",
    "###############################\n",
    "# 1. Data read\n",
    "###############################\n",
    "df = load_data_local(inpath, intype)\n",
    "\n",
    "###############################\n",
    "# 2. Feature engineering pipeline\n",
    "###############################\n",
    "df2 = FeatPipeline.fit_transform(df)\n",
    "\n",
    "###############################\n",
    "# 3. Scoring\n",
    "###############################\n",
    "model = joblib.load(model_chosen+ \".pkl\")\n",
    "\n",
    "# Convert data to json\n",
    "target_feature = [\"isFraud\"]\n",
    "id_features = ['nameDest', 'nameOrig']\n",
    "all_features = df.columns.difference(target_feature).difference(id_features)\n",
    "data = pd.DataFrame.to_json(df2[all_features])\n",
    "\n",
    "from pydantic import BaseModel\n",
    "\n",
    "# TODO: make configurable\n",
    "class Transaction(BaseModel):\n",
    "    amount: float\n",
    "    isDestBalanceNewZero: int\n",
    "    isDestBalanceOldZero: int\n",
    "    isDestMerchant: int\n",
    "    isOrigBalanceNewZero : int\n",
    "    isOrigBalanceOldZero : int\n",
    "    newbalanceDest : float\n",
    "    newbalanceOrig : float\n",
    "    oldbalanceDest : float\n",
    "    oldbalanceOrg : float\n",
    "    step: int\n",
    "    stepDay: int\n",
    "    stepHour: int\n",
    "    stepWeekDay: int\n",
    "    type: str\n"
   ]
  },
  {
   "cell_type": "code",
   "execution_count": 2,
   "metadata": {},
   "outputs": [
    {
     "data": {
      "text/html": [
       "<div>\n",
       "<style scoped>\n",
       "    .dataframe tbody tr th:only-of-type {\n",
       "        vertical-align: middle;\n",
       "    }\n",
       "\n",
       "    .dataframe tbody tr th {\n",
       "        vertical-align: top;\n",
       "    }\n",
       "\n",
       "    .dataframe thead th {\n",
       "        text-align: right;\n",
       "    }\n",
       "</style>\n",
       "<table border=\"1\" class=\"dataframe\">\n",
       "  <thead>\n",
       "    <tr style=\"text-align: right;\">\n",
       "      <th></th>\n",
       "      <th>amount</th>\n",
       "      <th>isDestBalanceNewZero</th>\n",
       "      <th>isDestBalanceOldZero</th>\n",
       "      <th>isDestMerchant</th>\n",
       "      <th>isFlaggedFraud</th>\n",
       "      <th>isOrigBalanceNewZero</th>\n",
       "      <th>isOrigBalanceOldZero</th>\n",
       "      <th>newbalanceDest</th>\n",
       "      <th>newbalanceOrig</th>\n",
       "      <th>oldbalanceDest</th>\n",
       "      <th>oldbalanceOrg</th>\n",
       "      <th>step</th>\n",
       "      <th>stepDay</th>\n",
       "      <th>stepHour</th>\n",
       "      <th>stepWeekDay</th>\n",
       "      <th>type</th>\n",
       "    </tr>\n",
       "  </thead>\n",
       "  <tbody>\n",
       "    <tr>\n",
       "      <th>0</th>\n",
       "      <td>309128.55</td>\n",
       "      <td>0</td>\n",
       "      <td>0</td>\n",
       "      <td>0</td>\n",
       "      <td>0</td>\n",
       "      <td>1</td>\n",
       "      <td>1</td>\n",
       "      <td>743261.26</td>\n",
       "      <td>0.0</td>\n",
       "      <td>434132.72</td>\n",
       "      <td>0.00</td>\n",
       "      <td>321</td>\n",
       "      <td>14.0</td>\n",
       "      <td>9.0</td>\n",
       "      <td>0.0</td>\n",
       "      <td>CASH_OUT</td>\n",
       "    </tr>\n",
       "    <tr>\n",
       "      <th>1</th>\n",
       "      <td>1035588.40</td>\n",
       "      <td>0</td>\n",
       "      <td>1</td>\n",
       "      <td>0</td>\n",
       "      <td>0</td>\n",
       "      <td>1</td>\n",
       "      <td>0</td>\n",
       "      <td>1035588.40</td>\n",
       "      <td>0.0</td>\n",
       "      <td>0.00</td>\n",
       "      <td>25691.00</td>\n",
       "      <td>154</td>\n",
       "      <td>7.0</td>\n",
       "      <td>10.0</td>\n",
       "      <td>0.0</td>\n",
       "      <td>TRANSFER</td>\n",
       "    </tr>\n",
       "    <tr>\n",
       "      <th>2</th>\n",
       "      <td>320499.65</td>\n",
       "      <td>0</td>\n",
       "      <td>0</td>\n",
       "      <td>0</td>\n",
       "      <td>0</td>\n",
       "      <td>0</td>\n",
       "      <td>0</td>\n",
       "      <td>85338.15</td>\n",
       "      <td>8646714.8</td>\n",
       "      <td>405837.80</td>\n",
       "      <td>8326215.15</td>\n",
       "      <td>348</td>\n",
       "      <td>15.0</td>\n",
       "      <td>12.0</td>\n",
       "      <td>1.0</td>\n",
       "      <td>CASH_IN</td>\n",
       "    </tr>\n",
       "    <tr>\n",
       "      <th>3</th>\n",
       "      <td>272780.92</td>\n",
       "      <td>0</td>\n",
       "      <td>0</td>\n",
       "      <td>0</td>\n",
       "      <td>0</td>\n",
       "      <td>1</td>\n",
       "      <td>1</td>\n",
       "      <td>928395.54</td>\n",
       "      <td>0.0</td>\n",
       "      <td>655614.62</td>\n",
       "      <td>0.00</td>\n",
       "      <td>262</td>\n",
       "      <td>11.0</td>\n",
       "      <td>22.0</td>\n",
       "      <td>4.0</td>\n",
       "      <td>TRANSFER</td>\n",
       "    </tr>\n",
       "    <tr>\n",
       "      <th>4</th>\n",
       "      <td>11310.62</td>\n",
       "      <td>0</td>\n",
       "      <td>0</td>\n",
       "      <td>0</td>\n",
       "      <td>0</td>\n",
       "      <td>1</td>\n",
       "      <td>1</td>\n",
       "      <td>1068365.73</td>\n",
       "      <td>0.0</td>\n",
       "      <td>1057055.11</td>\n",
       "      <td>0.00</td>\n",
       "      <td>227</td>\n",
       "      <td>10.0</td>\n",
       "      <td>11.0</td>\n",
       "      <td>3.0</td>\n",
       "      <td>CASH_OUT</td>\n",
       "    </tr>\n",
       "  </tbody>\n",
       "</table>\n",
       "</div>"
      ],
      "text/plain": [
       "       amount  isDestBalanceNewZero  isDestBalanceOldZero  isDestMerchant  \\\n",
       "0   309128.55                     0                     0               0   \n",
       "1  1035588.40                     0                     1               0   \n",
       "2   320499.65                     0                     0               0   \n",
       "3   272780.92                     0                     0               0   \n",
       "4    11310.62                     0                     0               0   \n",
       "\n",
       "   isFlaggedFraud  isOrigBalanceNewZero  isOrigBalanceOldZero  newbalanceDest  \\\n",
       "0               0                     1                     1       743261.26   \n",
       "1               0                     1                     0      1035588.40   \n",
       "2               0                     0                     0        85338.15   \n",
       "3               0                     1                     1       928395.54   \n",
       "4               0                     1                     1      1068365.73   \n",
       "\n",
       "   newbalanceOrig  oldbalanceDest  oldbalanceOrg  step  stepDay  stepHour  \\\n",
       "0             0.0       434132.72           0.00   321     14.0       9.0   \n",
       "1             0.0            0.00       25691.00   154      7.0      10.0   \n",
       "2       8646714.8       405837.80     8326215.15   348     15.0      12.0   \n",
       "3             0.0       655614.62           0.00   262     11.0      22.0   \n",
       "4             0.0      1057055.11           0.00   227     10.0      11.0   \n",
       "\n",
       "   stepWeekDay      type  \n",
       "0          0.0  CASH_OUT  \n",
       "1          0.0  TRANSFER  \n",
       "2          1.0   CASH_IN  \n",
       "3          4.0  TRANSFER  \n",
       "4          3.0  CASH_OUT  "
      ]
     },
     "execution_count": 2,
     "metadata": {},
     "output_type": "execute_result"
    }
   ],
   "source": [
    "df2[all_features].head()"
   ]
  },
  {
   "cell_type": "code",
   "execution_count": null,
   "metadata": {},
   "outputs": [],
   "source": []
  },
  {
   "cell_type": "code",
   "execution_count": 6,
   "metadata": {},
   "outputs": [
    {
     "data": {
      "text/plain": [
       "'{'"
      ]
     },
     "execution_count": 6,
     "metadata": {},
     "output_type": "execute_result"
    }
   ],
   "source": [
    "{\n",
    "  \"amount\": 309128.55,\n",
    "  \"isDestBalanceNewZero\": 0,\n",
    "  \"isDestBalanceOldZero\": 0,\n",
    "  \"isDestMerchant\": 0,\n",
    "  \"isOrigBalanceNewZero\": 1,\n",
    "  \"isOrigBalanceOldZero\": 1,\n",
    "  \"newbalanceDest\": 743261.26,\n",
    "  \"newbalanceOrig\": 0.0,\n",
    "  \"oldbalanceDest\": 434132.72,\n",
    "  \"oldbalanceOrg\": 0.00,\n",
    "  \"step\": 321,\n",
    "  \"stepDay\": 14.0,\n",
    "  \"stepHour\": 9.0,\n",
    "  \"stepWeekDay\": 0.0,\n",
    "  \"type\": \"CASH_OUT\"\n",
    "}\n"
   ]
  },
  {
   "cell_type": "code",
   "execution_count": null,
   "metadata": {},
   "outputs": [],
   "source": []
  },
  {
   "cell_type": "code",
   "execution_count": 11,
   "metadata": {},
   "outputs": [
    {
     "name": "stderr",
     "output_type": "stream",
     "text": [
      "/Applications/anaconda3/lib/python3.7/site-packages/sklearn/compose/_column_transformer.py:430: FutureWarning: Given feature/column names or counts do not match the ones for the data given during fit. This will fail from v0.24.\n",
      "  FutureWarning)\n"
     ]
    },
    {
     "data": {
      "text/plain": [
       "array([0, 0, 0])"
      ]
     },
     "execution_count": 11,
     "metadata": {},
     "output_type": "execute_result"
    }
   ],
   "source": [
    "model.predict(df2[:3][all_features])"
   ]
  },
  {
   "cell_type": "code",
   "execution_count": 12,
   "metadata": {},
   "outputs": [
    {
     "data": {
      "text/plain": [
       "'{\"amount\":{\"0\":309128.55,\"1\":1035588.4,\"2\":320499.65},\"isDestBalanceNewZero\":{\"0\":0,\"1\":0,\"2\":0},\"isDestBalanceOldZero\":{\"0\":0,\"1\":1,\"2\":0},\"isDestMerchant\":{\"0\":0,\"1\":0,\"2\":0},\"isFlaggedFraud\":{\"0\":0,\"1\":0,\"2\":0},\"isOrigBalanceNewZero\":{\"0\":1,\"1\":1,\"2\":0},\"isOrigBalanceOldZero\":{\"0\":1,\"1\":0,\"2\":0},\"newbalanceDest\":{\"0\":743261.26,\"1\":1035588.4,\"2\":85338.15},\"newbalanceOrig\":{\"0\":0.0,\"1\":0.0,\"2\":8646714.8000000007},\"oldbalanceDest\":{\"0\":434132.72,\"1\":0.0,\"2\":405837.8},\"oldbalanceOrg\":{\"0\":0.0,\"1\":25691.0,\"2\":8326215.1500000004},\"step\":{\"0\":321,\"1\":154,\"2\":348},\"stepDay\":{\"0\":14.0,\"1\":7.0,\"2\":15.0},\"stepHour\":{\"0\":9.0,\"1\":10.0,\"2\":12.0},\"stepWeekDay\":{\"0\":0.0,\"1\":0.0,\"2\":1.0},\"type\":{\"0\":\"CASH_OUT\",\"1\":\"TRANSFER\",\"2\":\"CASH_IN\"}}'"
      ]
     },
     "execution_count": 12,
     "metadata": {},
     "output_type": "execute_result"
    }
   ],
   "source": [
    "pd.DataFrame.to_json(df2[:3][all_features])"
   ]
  },
  {
   "cell_type": "code",
   "execution_count": null,
   "metadata": {},
   "outputs": [],
   "source": []
  }
 ],
 "metadata": {
  "kernelspec": {
   "display_name": "Python 3",
   "language": "python",
   "name": "python3"
  },
  "language_info": {
   "codemirror_mode": {
    "name": "ipython",
    "version": 3
   },
   "file_extension": ".py",
   "mimetype": "text/x-python",
   "name": "python",
   "nbconvert_exporter": "python",
   "pygments_lexer": "ipython3",
   "version": "3.7.0"
  }
 },
 "nbformat": 4,
 "nbformat_minor": 2
}
