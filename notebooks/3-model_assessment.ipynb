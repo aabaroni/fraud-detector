{
 "cells": [
  {
   "cell_type": "code",
   "execution_count": 1,
   "metadata": {},
   "outputs": [],
   "source": [
    "import pandas as pd\n",
    "import numpy as np\n",
    "from sklearn.metrics import roc_auc_score, roc_curve, auc, classification_report, confusion_matrix\n",
    "from sklearn.model_selection import train_test_split\n",
    "import joblib\n",
    "import matplotlib.pyplot as plt\n",
    "\n",
    "import sys  \n",
    "sys.path.insert(0, '../fraud-detector/')\n",
    "from feateng import FeatPipeline"
   ]
  },
  {
   "cell_type": "code",
   "execution_count": 2,
   "metadata": {},
   "outputs": [],
   "source": [
    "\n",
    "###############################\n",
    "# Variable Assignment and data read in\n",
    "###############################\n",
    "#TODO: make configurable\n",
    "sampleRate = 0.1\n",
    "raw = pd.read_csv(\"../data/input_data.csv\").drop(columns = [\"isFlaggedFraud\"])\n",
    "raw_sampled = pd.DataFrame.sample(raw, frac = sampleRate)\n"
   ]
  },
  {
   "cell_type": "code",
   "execution_count": 3,
   "metadata": {},
   "outputs": [
    {
     "name": "stdout",
     "output_type": "stream",
     "text": [
      "Debugging log - FE step complete:\n"
     ]
    },
    {
     "data": {
      "text/html": [
       "<div>\n",
       "<style scoped>\n",
       "    .dataframe tbody tr th:only-of-type {\n",
       "        vertical-align: middle;\n",
       "    }\n",
       "\n",
       "    .dataframe tbody tr th {\n",
       "        vertical-align: top;\n",
       "    }\n",
       "\n",
       "    .dataframe thead th {\n",
       "        text-align: right;\n",
       "    }\n",
       "</style>\n",
       "<table border=\"1\" class=\"dataframe\">\n",
       "  <thead>\n",
       "    <tr style=\"text-align: right;\">\n",
       "      <th></th>\n",
       "      <th>step</th>\n",
       "      <th>type</th>\n",
       "      <th>amount</th>\n",
       "      <th>nameOrig</th>\n",
       "      <th>oldbalanceOrg</th>\n",
       "      <th>newbalanceOrig</th>\n",
       "      <th>nameDest</th>\n",
       "      <th>oldbalanceDest</th>\n",
       "      <th>newbalanceDest</th>\n",
       "      <th>isFraud</th>\n",
       "      <th>stepDay</th>\n",
       "      <th>stepHour</th>\n",
       "      <th>stepWeekDay</th>\n",
       "      <th>isDestMerchant</th>\n",
       "      <th>isDestBalanceNewZero</th>\n",
       "      <th>isDestBalanceOldZero</th>\n",
       "      <th>isOrigBalanceNewZero</th>\n",
       "      <th>isOrigBalanceOldZero</th>\n",
       "    </tr>\n",
       "  </thead>\n",
       "  <tbody>\n",
       "    <tr>\n",
       "      <th>2319539</th>\n",
       "      <td>188</td>\n",
       "      <td>PAYMENT</td>\n",
       "      <td>29161.74</td>\n",
       "      <td>C1846003900</td>\n",
       "      <td>103893.72</td>\n",
       "      <td>74731.97</td>\n",
       "      <td>M1759469828</td>\n",
       "      <td>0.0</td>\n",
       "      <td>0.00</td>\n",
       "      <td>0</td>\n",
       "      <td>8.0</td>\n",
       "      <td>20.0</td>\n",
       "      <td>1.0</td>\n",
       "      <td>1</td>\n",
       "      <td>1</td>\n",
       "      <td>1</td>\n",
       "      <td>0</td>\n",
       "      <td>0</td>\n",
       "    </tr>\n",
       "    <tr>\n",
       "      <th>4176903</th>\n",
       "      <td>304</td>\n",
       "      <td>CASH_IN</td>\n",
       "      <td>376257.18</td>\n",
       "      <td>C1756642205</td>\n",
       "      <td>2654313.01</td>\n",
       "      <td>3030570.18</td>\n",
       "      <td>C1864446202</td>\n",
       "      <td>6688750.8</td>\n",
       "      <td>6312493.62</td>\n",
       "      <td>0</td>\n",
       "      <td>13.0</td>\n",
       "      <td>16.0</td>\n",
       "      <td>6.0</td>\n",
       "      <td>0</td>\n",
       "      <td>0</td>\n",
       "      <td>0</td>\n",
       "      <td>0</td>\n",
       "      <td>0</td>\n",
       "    </tr>\n",
       "    <tr>\n",
       "      <th>2761232</th>\n",
       "      <td>213</td>\n",
       "      <td>PAYMENT</td>\n",
       "      <td>9584.22</td>\n",
       "      <td>C324853722</td>\n",
       "      <td>12224.00</td>\n",
       "      <td>2639.78</td>\n",
       "      <td>M72951935</td>\n",
       "      <td>0.0</td>\n",
       "      <td>0.00</td>\n",
       "      <td>0</td>\n",
       "      <td>9.0</td>\n",
       "      <td>21.0</td>\n",
       "      <td>2.0</td>\n",
       "      <td>1</td>\n",
       "      <td>1</td>\n",
       "      <td>1</td>\n",
       "      <td>0</td>\n",
       "      <td>0</td>\n",
       "    </tr>\n",
       "    <tr>\n",
       "      <th>2766156</th>\n",
       "      <td>213</td>\n",
       "      <td>PAYMENT</td>\n",
       "      <td>33856.69</td>\n",
       "      <td>C1226196537</td>\n",
       "      <td>74391.38</td>\n",
       "      <td>40534.69</td>\n",
       "      <td>M1488066838</td>\n",
       "      <td>0.0</td>\n",
       "      <td>0.00</td>\n",
       "      <td>0</td>\n",
       "      <td>9.0</td>\n",
       "      <td>21.0</td>\n",
       "      <td>2.0</td>\n",
       "      <td>1</td>\n",
       "      <td>1</td>\n",
       "      <td>1</td>\n",
       "      <td>0</td>\n",
       "      <td>0</td>\n",
       "    </tr>\n",
       "    <tr>\n",
       "      <th>5531538</th>\n",
       "      <td>381</td>\n",
       "      <td>PAYMENT</td>\n",
       "      <td>20711.66</td>\n",
       "      <td>C1652492236</td>\n",
       "      <td>78496.34</td>\n",
       "      <td>57784.68</td>\n",
       "      <td>M272795127</td>\n",
       "      <td>0.0</td>\n",
       "      <td>0.00</td>\n",
       "      <td>0</td>\n",
       "      <td>16.0</td>\n",
       "      <td>21.0</td>\n",
       "      <td>2.0</td>\n",
       "      <td>1</td>\n",
       "      <td>1</td>\n",
       "      <td>1</td>\n",
       "      <td>0</td>\n",
       "      <td>0</td>\n",
       "    </tr>\n",
       "  </tbody>\n",
       "</table>\n",
       "</div>"
      ],
      "text/plain": [
       "         step     type     amount     nameOrig  oldbalanceOrg  newbalanceOrig  \\\n",
       "2319539   188  PAYMENT   29161.74  C1846003900      103893.72        74731.97   \n",
       "4176903   304  CASH_IN  376257.18  C1756642205     2654313.01      3030570.18   \n",
       "2761232   213  PAYMENT    9584.22   C324853722       12224.00         2639.78   \n",
       "2766156   213  PAYMENT   33856.69  C1226196537       74391.38        40534.69   \n",
       "5531538   381  PAYMENT   20711.66  C1652492236       78496.34        57784.68   \n",
       "\n",
       "            nameDest  oldbalanceDest  newbalanceDest  isFraud  stepDay  \\\n",
       "2319539  M1759469828             0.0            0.00        0      8.0   \n",
       "4176903  C1864446202       6688750.8      6312493.62        0     13.0   \n",
       "2761232    M72951935             0.0            0.00        0      9.0   \n",
       "2766156  M1488066838             0.0            0.00        0      9.0   \n",
       "5531538   M272795127             0.0            0.00        0     16.0   \n",
       "\n",
       "         stepHour  stepWeekDay  isDestMerchant  isDestBalanceNewZero  \\\n",
       "2319539      20.0          1.0               1                     1   \n",
       "4176903      16.0          6.0               0                     0   \n",
       "2761232      21.0          2.0               1                     1   \n",
       "2766156      21.0          2.0               1                     1   \n",
       "5531538      21.0          2.0               1                     1   \n",
       "\n",
       "         isDestBalanceOldZero  isOrigBalanceNewZero  isOrigBalanceOldZero  \n",
       "2319539                     1                     0                     0  \n",
       "4176903                     0                     0                     0  \n",
       "2761232                     1                     0                     0  \n",
       "2766156                     1                     0                     0  \n",
       "5531538                     1                     0                     0  "
      ]
     },
     "execution_count": 3,
     "metadata": {},
     "output_type": "execute_result"
    }
   ],
   "source": [
    "df = FeatPipeline.fit_transform(raw_sampled)\n",
    "print(\"Debugging log - FE step complete:\")\n",
    "df.head()"
   ]
  },
  {
   "cell_type": "code",
   "execution_count": 4,
   "metadata": {},
   "outputs": [
    {
     "data": {
      "text/plain": [
       "Index(['amount', 'isDestBalanceNewZero', 'isDestBalanceOldZero',\n",
       "       'isDestMerchant', 'isOrigBalanceNewZero', 'isOrigBalanceOldZero',\n",
       "       'newbalanceDest', 'newbalanceOrig', 'oldbalanceDest', 'oldbalanceOrg',\n",
       "       'step', 'stepDay', 'stepHour', 'stepWeekDay', 'type'],\n",
       "      dtype='object')"
      ]
     },
     "execution_count": 4,
     "metadata": {},
     "output_type": "execute_result"
    }
   ],
   "source": [
    "###############################\n",
    "# More variable Assignment\n",
    "###############################\n",
    "#TODO: make configurable\n",
    "target_feature = [\"isFraud\"]\n",
    "id_features = ['nameDest', 'nameOrig']\n",
    "\n",
    "all_features = df.columns.difference(target_feature).difference(id_features)\n",
    "all_features"
   ]
  },
  {
   "cell_type": "code",
   "execution_count": 5,
   "metadata": {},
   "outputs": [],
   "source": [
    "y = df[target_feature]\n",
    "X_train, X_test, y_train, y_test = train_test_split(df[all_features], np.array(df[target_feature]), test_size = 0.3,random_state=2, stratify=y)\n"
   ]
  },
  {
   "cell_type": "code",
   "execution_count": 6,
   "metadata": {},
   "outputs": [
    {
     "name": "stdout",
     "output_type": "stream",
     "text": [
      "Iteration 0, features:  Index(['amount'], dtype='object')\n",
      "Iteration 1, features:  Index(['amount', 'isDestBalanceNewZero'], dtype='object')\n",
      "Iteration 2, features:  Index(['amount', 'isDestBalanceNewZero', 'isDestBalanceOldZero'], dtype='object')\n",
      "Iteration 3, features:  Index(['amount', 'isDestBalanceNewZero', 'isDestBalanceOldZero',\n",
      "       'isDestMerchant'],\n",
      "      dtype='object')\n",
      "Iteration 4, features:  Index(['amount', 'isDestBalanceNewZero', 'isDestBalanceOldZero',\n",
      "       'isDestMerchant', 'isOrigBalanceNewZero'],\n",
      "      dtype='object')\n",
      "Iteration 5, features:  Index(['amount', 'isDestBalanceNewZero', 'isDestBalanceOldZero',\n",
      "       'isDestMerchant', 'isOrigBalanceNewZero', 'isOrigBalanceOldZero'],\n",
      "      dtype='object')\n",
      "Iteration 6, features:  Index(['amount', 'isDestBalanceNewZero', 'isDestBalanceOldZero',\n",
      "       'isDestMerchant', 'isOrigBalanceNewZero', 'isOrigBalanceOldZero',\n",
      "       'newbalanceDest'],\n",
      "      dtype='object')\n",
      "Iteration 7, features:  Index(['amount', 'isDestBalanceNewZero', 'isDestBalanceOldZero',\n",
      "       'isDestMerchant', 'isOrigBalanceNewZero', 'isOrigBalanceOldZero',\n",
      "       'newbalanceDest', 'newbalanceOrig'],\n",
      "      dtype='object')\n",
      "Iteration 8, features:  Index(['amount', 'isDestBalanceNewZero', 'isDestBalanceOldZero',\n",
      "       'isDestMerchant', 'isOrigBalanceNewZero', 'isOrigBalanceOldZero',\n",
      "       'newbalanceDest', 'newbalanceOrig', 'oldbalanceDest'],\n",
      "      dtype='object')\n",
      "Iteration 9, features:  Index(['amount', 'isDestBalanceNewZero', 'isDestBalanceOldZero',\n",
      "       'isDestMerchant', 'isOrigBalanceNewZero', 'isOrigBalanceOldZero',\n",
      "       'newbalanceDest', 'newbalanceOrig', 'oldbalanceDest', 'oldbalanceOrg'],\n",
      "      dtype='object')\n",
      "Iteration 10, features:  Index(['amount', 'isDestBalanceNewZero', 'isDestBalanceOldZero',\n",
      "       'isDestMerchant', 'isOrigBalanceNewZero', 'isOrigBalanceOldZero',\n",
      "       'newbalanceDest', 'newbalanceOrig', 'oldbalanceDest', 'oldbalanceOrg',\n",
      "       'step'],\n",
      "      dtype='object')\n"
     ]
    }
   ],
   "source": [
    "# Generate roc_auc curves\n",
    "roc_auc_train_df = pd.DataFrame(columns=[\n",
    "       'features', 'logistic_regression', 'random_forest', 'gradient_boosting',\n",
    "])\n",
    "\n",
    "roc_auc_test_df = pd.DataFrame(columns=[\n",
    "       'features', 'logistic_regression', 'random_forest', 'gradient_boosting'\n",
    "])\n",
    "\n",
    "for i in range(len(all_features)):\n",
    "    try:\n",
    "        lr = joblib.load(f'../models/logisticRegression_{i + 1}.pkl')\n",
    "        rf = joblib.load(f'../models/randomForest_{i + 1}.pkl')\n",
    "        gb = joblib.load(f'../models/gradientBoosting_{i + 1}.pkl')\n",
    "\n",
    "        features = all_features[:i + 1]\n",
    "        print(\"Iteration \" + str(i) + \", features: \", features)\n",
    "\n",
    "        # roc auc - train data\n",
    "        lr_roc_auc_score_train = roc_auc_score(y_train, lr.predict_proba(X_train)[:, 1])\n",
    "        gb_roc_auc_score_train = roc_auc_score(y_train, gb.predict_proba(X_train)[:, 1])\n",
    "        rf_roc_auc_score_train = roc_auc_score(y_train, rf.predict_proba(X_train)[:, 1])\n",
    "        roc_auc_train_df.loc[len(roc_auc_test_df)] = [\n",
    "               i + 1, lr_roc_auc_score_train, rf_roc_auc_score_train, gb_roc_auc_score_train\n",
    "        ]\n",
    "\n",
    "        # roc auc - test data\n",
    "        lr_roc_auc_score_test = roc_auc_score(y_test, lr.predict_proba(X_test)[:, 1])\n",
    "        gb_roc_auc_score_test = roc_auc_score(y_test, gb.predict_proba(X_test)[:, 1])\n",
    "        rf_roc_auc_score_test = roc_auc_score(y_test, rf.predict_proba(X_test)[:, 1])\n",
    "        roc_auc_test_df.loc[len(roc_auc_test_df)] = [\n",
    "               i + 1, lr_roc_auc_score_test, rf_roc_auc_score_test, gb_roc_auc_score_test\n",
    "        ]\n",
    "    except:\n",
    "        pass\n"
   ]
  },
  {
   "cell_type": "code",
   "execution_count": 7,
   "metadata": {},
   "outputs": [
    {
     "data": {
      "text/html": [
       "<div>\n",
       "<style scoped>\n",
       "    .dataframe tbody tr th:only-of-type {\n",
       "        vertical-align: middle;\n",
       "    }\n",
       "\n",
       "    .dataframe tbody tr th {\n",
       "        vertical-align: top;\n",
       "    }\n",
       "\n",
       "    .dataframe thead th {\n",
       "        text-align: right;\n",
       "    }\n",
       "</style>\n",
       "<table border=\"1\" class=\"dataframe\">\n",
       "  <thead>\n",
       "    <tr style=\"text-align: right;\">\n",
       "      <th></th>\n",
       "      <th>features</th>\n",
       "      <th>logistic_regression</th>\n",
       "      <th>random_forest</th>\n",
       "      <th>gradient_boosting</th>\n",
       "    </tr>\n",
       "  </thead>\n",
       "  <tbody>\n",
       "    <tr>\n",
       "      <th>0</th>\n",
       "      <td>1.0</td>\n",
       "      <td>0.785483</td>\n",
       "      <td>0.791682</td>\n",
       "      <td>0.789626</td>\n",
       "    </tr>\n",
       "    <tr>\n",
       "      <th>1</th>\n",
       "      <td>2.0</td>\n",
       "      <td>0.785483</td>\n",
       "      <td>0.790768</td>\n",
       "      <td>0.789626</td>\n",
       "    </tr>\n",
       "    <tr>\n",
       "      <th>2</th>\n",
       "      <td>3.0</td>\n",
       "      <td>0.785483</td>\n",
       "      <td>0.790991</td>\n",
       "      <td>0.789626</td>\n",
       "    </tr>\n",
       "    <tr>\n",
       "      <th>3</th>\n",
       "      <td>4.0</td>\n",
       "      <td>0.797560</td>\n",
       "      <td>0.811725</td>\n",
       "      <td>0.828375</td>\n",
       "    </tr>\n",
       "    <tr>\n",
       "      <th>4</th>\n",
       "      <td>5.0</td>\n",
       "      <td>0.797560</td>\n",
       "      <td>0.810401</td>\n",
       "      <td>0.828375</td>\n",
       "    </tr>\n",
       "    <tr>\n",
       "      <th>5</th>\n",
       "      <td>6.0</td>\n",
       "      <td>0.797560</td>\n",
       "      <td>0.802899</td>\n",
       "      <td>0.828375</td>\n",
       "    </tr>\n",
       "    <tr>\n",
       "      <th>6</th>\n",
       "      <td>7.0</td>\n",
       "      <td>0.872600</td>\n",
       "      <td>0.911510</td>\n",
       "      <td>0.789042</td>\n",
       "    </tr>\n",
       "    <tr>\n",
       "      <th>7</th>\n",
       "      <td>8.0</td>\n",
       "      <td>0.891248</td>\n",
       "      <td>0.955823</td>\n",
       "      <td>0.930705</td>\n",
       "    </tr>\n",
       "    <tr>\n",
       "      <th>8</th>\n",
       "      <td>9.0</td>\n",
       "      <td>0.891623</td>\n",
       "      <td>0.951269</td>\n",
       "      <td>0.947330</td>\n",
       "    </tr>\n",
       "    <tr>\n",
       "      <th>9</th>\n",
       "      <td>10.0</td>\n",
       "      <td>0.904144</td>\n",
       "      <td>0.998661</td>\n",
       "      <td>0.979778</td>\n",
       "    </tr>\n",
       "    <tr>\n",
       "      <th>10</th>\n",
       "      <td>11.0</td>\n",
       "      <td>0.880583</td>\n",
       "      <td>0.998982</td>\n",
       "      <td>0.945559</td>\n",
       "    </tr>\n",
       "  </tbody>\n",
       "</table>\n",
       "</div>"
      ],
      "text/plain": [
       "    features  logistic_regression  random_forest  gradient_boosting\n",
       "0        1.0             0.785483       0.791682           0.789626\n",
       "1        2.0             0.785483       0.790768           0.789626\n",
       "2        3.0             0.785483       0.790991           0.789626\n",
       "3        4.0             0.797560       0.811725           0.828375\n",
       "4        5.0             0.797560       0.810401           0.828375\n",
       "5        6.0             0.797560       0.802899           0.828375\n",
       "6        7.0             0.872600       0.911510           0.789042\n",
       "7        8.0             0.891248       0.955823           0.930705\n",
       "8        9.0             0.891623       0.951269           0.947330\n",
       "9       10.0             0.904144       0.998661           0.979778\n",
       "10      11.0             0.880583       0.998982           0.945559"
      ]
     },
     "execution_count": 7,
     "metadata": {},
     "output_type": "execute_result"
    }
   ],
   "source": [
    "roc_auc_train_df\n",
    "\n"
   ]
  },
  {
   "cell_type": "code",
   "execution_count": 8,
   "metadata": {},
   "outputs": [
    {
     "data": {
      "image/png": "[encoded data removed]",
      "text/plain": [
       "<Figure size 432x288 with 1 Axes>"
      ]
     },
     "metadata": {
      "needs_background": "light"
     },
     "output_type": "display_data"
    }
   ],
   "source": [
    "roc_auc_train_df[[col for col in roc_auc_train_df.columns if col not in ['features']]].plot();\n"
   ]
  },
  {
   "cell_type": "code",
   "execution_count": 9,
   "metadata": {},
   "outputs": [
    {
     "data": {
      "image/png": "[encoded data removed]",
      "text/plain": [
       "<Figure size 432x288 with 1 Axes>"
      ]
     },
     "metadata": {
      "needs_background": "light"
     },
     "output_type": "display_data"
    }
   ],
   "source": [
    "roc_auc_test_df[[col for col in roc_auc_test_df.columns if col not in ['features']]].plot();\n"
   ]
  },
  {
   "cell_type": "code",
   "execution_count": 10,
   "metadata": {},
   "outputs": [
    {
     "data": {
      "text/html": [
       "<div>\n",
       "<style scoped>\n",
       "    .dataframe tbody tr th:only-of-type {\n",
       "        vertical-align: middle;\n",
       "    }\n",
       "\n",
       "    .dataframe tbody tr th {\n",
       "        vertical-align: top;\n",
       "    }\n",
       "\n",
       "    .dataframe thead th {\n",
       "        text-align: right;\n",
       "    }\n",
       "</style>\n",
       "<table border=\"1\" class=\"dataframe\">\n",
       "  <thead>\n",
       "    <tr style=\"text-align: right;\">\n",
       "      <th></th>\n",
       "      <th>features</th>\n",
       "      <th>gradient_boosting</th>\n",
       "      <th>random_forest</th>\n",
       "      <th>gb_diff</th>\n",
       "      <th>rf_diff</th>\n",
       "    </tr>\n",
       "  </thead>\n",
       "  <tbody>\n",
       "    <tr>\n",
       "      <th>0</th>\n",
       "      <td>1.0</td>\n",
       "      <td>0.802810</td>\n",
       "      <td>0.803506</td>\n",
       "      <td>NaN</td>\n",
       "      <td>NaN</td>\n",
       "    </tr>\n",
       "    <tr>\n",
       "      <th>1</th>\n",
       "      <td>2.0</td>\n",
       "      <td>0.802810</td>\n",
       "      <td>0.801334</td>\n",
       "      <td>0.000000</td>\n",
       "      <td>-0.002172</td>\n",
       "    </tr>\n",
       "    <tr>\n",
       "      <th>2</th>\n",
       "      <td>3.0</td>\n",
       "      <td>0.802810</td>\n",
       "      <td>0.801172</td>\n",
       "      <td>0.000000</td>\n",
       "      <td>-0.000163</td>\n",
       "    </tr>\n",
       "    <tr>\n",
       "      <th>3</th>\n",
       "      <td>4.0</td>\n",
       "      <td>0.823762</td>\n",
       "      <td>0.814898</td>\n",
       "      <td>0.020952</td>\n",
       "      <td>0.013726</td>\n",
       "    </tr>\n",
       "    <tr>\n",
       "      <th>4</th>\n",
       "      <td>5.0</td>\n",
       "      <td>0.823762</td>\n",
       "      <td>0.819338</td>\n",
       "      <td>0.000000</td>\n",
       "      <td>0.004440</td>\n",
       "    </tr>\n",
       "    <tr>\n",
       "      <th>5</th>\n",
       "      <td>6.0</td>\n",
       "      <td>0.823762</td>\n",
       "      <td>0.818688</td>\n",
       "      <td>0.000000</td>\n",
       "      <td>-0.000650</td>\n",
       "    </tr>\n",
       "    <tr>\n",
       "      <th>6</th>\n",
       "      <td>7.0</td>\n",
       "      <td>0.800047</td>\n",
       "      <td>0.914215</td>\n",
       "      <td>-0.023715</td>\n",
       "      <td>0.095528</td>\n",
       "    </tr>\n",
       "    <tr>\n",
       "      <th>7</th>\n",
       "      <td>8.0</td>\n",
       "      <td>0.944155</td>\n",
       "      <td>0.956213</td>\n",
       "      <td>0.144108</td>\n",
       "      <td>0.041998</td>\n",
       "    </tr>\n",
       "    <tr>\n",
       "      <th>8</th>\n",
       "      <td>9.0</td>\n",
       "      <td>0.955914</td>\n",
       "      <td>0.953953</td>\n",
       "      <td>0.011759</td>\n",
       "      <td>-0.002260</td>\n",
       "    </tr>\n",
       "    <tr>\n",
       "      <th>9</th>\n",
       "      <td>10.0</td>\n",
       "      <td>0.977292</td>\n",
       "      <td>0.997111</td>\n",
       "      <td>0.021378</td>\n",
       "      <td>0.043157</td>\n",
       "    </tr>\n",
       "    <tr>\n",
       "      <th>10</th>\n",
       "      <td>11.0</td>\n",
       "      <td>0.948348</td>\n",
       "      <td>0.998025</td>\n",
       "      <td>-0.028944</td>\n",
       "      <td>0.000914</td>\n",
       "    </tr>\n",
       "  </tbody>\n",
       "</table>\n",
       "</div>"
      ],
      "text/plain": [
       "    features  gradient_boosting  random_forest   gb_diff   rf_diff\n",
       "0        1.0           0.802810       0.803506       NaN       NaN\n",
       "1        2.0           0.802810       0.801334  0.000000 -0.002172\n",
       "2        3.0           0.802810       0.801172  0.000000 -0.000163\n",
       "3        4.0           0.823762       0.814898  0.020952  0.013726\n",
       "4        5.0           0.823762       0.819338  0.000000  0.004440\n",
       "5        6.0           0.823762       0.818688  0.000000 -0.000650\n",
       "6        7.0           0.800047       0.914215 -0.023715  0.095528\n",
       "7        8.0           0.944155       0.956213  0.144108  0.041998\n",
       "8        9.0           0.955914       0.953953  0.011759 -0.002260\n",
       "9       10.0           0.977292       0.997111  0.021378  0.043157\n",
       "10      11.0           0.948348       0.998025 -0.028944  0.000914"
      ]
     },
     "execution_count": 10,
     "metadata": {},
     "output_type": "execute_result"
    }
   ],
   "source": [
    "roc_auc_test_df['gb_diff'] = roc_auc_test_df['gradient_boosting'] - roc_auc_test_df['gradient_boosting'].shift(1)\n",
    "roc_auc_test_df['rf_diff'] = roc_auc_test_df['random_forest'] - roc_auc_test_df['random_forest'].shift(1)\n",
    "roc_auc_test_df[['features', 'gradient_boosting', 'random_forest', 'gb_diff', 'rf_diff']]\n",
    "\n"
   ]
  },
  {
   "cell_type": "markdown",
   "metadata": {},
   "source": [
    "## Pick a model type"
   ]
  },
  {
   "cell_type": "code",
   "execution_count": 11,
   "metadata": {},
   "outputs": [
    {
     "data": {
      "image/png": "[encoded data removed]",
      "text/plain": [
       "<Figure size 432x288 with 1 Axes>"
      ]
     },
     "metadata": {
      "needs_background": "light"
     },
     "output_type": "display_data"
    }
   ],
   "source": [
    "# Compare roa_auc on train vs test set\n",
    "model_type = \"random_forest\" #[\"logistic_regression\", gradient_boosting\", \"random_forest\"]\n",
    "\n",
    "plt.plot(roc_auc_test_df[model_type], label = 'test');\n",
    "plt.plot(roc_auc_train_df[model_type], label = 'train');\n",
    "plt.legend(loc = 'best');\n",
    "plt.title(model_type);\n",
    "\n"
   ]
  },
  {
   "cell_type": "markdown",
   "metadata": {},
   "source": [
    "# Now pick a model"
   ]
  },
  {
   "cell_type": "code",
   "execution_count": 12,
   "metadata": {},
   "outputs": [],
   "source": [
    "# Choose model: \n",
    "model_chosen = 'randomForest_10' #[\"gradientBoosting\", logisticRegression\", \"randomForest\"]\n",
    "model = joblib.load(f'../models/{model_chosen}.pkl')\n",
    "y_test_pred = model.predict(X_test)\n",
    "y_test_pred_proba = model.predict_proba(X_test)\n",
    "y_test_pred_proba_posit = y_test_pred_proba[:, 1]"
   ]
  },
  {
   "cell_type": "code",
   "execution_count": 13,
   "metadata": {},
   "outputs": [
    {
     "data": {
      "text/plain": [
       "array([0.00000000e+00, 0.00000000e+00, 0.00000000e+00, ...,\n",
       "       0.00000000e+00, 0.00000000e+00, 6.58729709e-05])"
      ]
     },
     "execution_count": 13,
     "metadata": {},
     "output_type": "execute_result"
    }
   ],
   "source": [
    "# select features of interest\n",
    "model.predict(df[all_features])\n",
    "model.predict_proba(df[all_features])[:,1]"
   ]
  },
  {
   "cell_type": "code",
   "execution_count": 14,
   "metadata": {},
   "outputs": [
    {
     "name": "stdout",
     "output_type": "stream",
     "text": [
      "190639 240\n",
      "Confusion matrix\n",
      "[[190631      8]\n",
      " [    66    174]]\n",
      "Normalized confusion matrix\n",
      "[[9.99958036e-01 4.19641312e-05]\n",
      " [2.75000000e-01 7.25000000e-01]]\n"
     ]
    },
    {
     "data": {
      "image/png": "[encoded data removed]",
      "text/plain": [
       "<Figure size 432x288 with 2 Axes>"
      ]
     },
     "metadata": {
      "needs_background": "light"
     },
     "output_type": "display_data"
    },
    {
     "data": {
      "image/png": "[encoded data removed]",
      "text/plain": [
       "<Figure size 432x288 with 2 Axes>"
      ]
     },
     "metadata": {
      "needs_background": "light"
     },
     "output_type": "display_data"
    }
   ],
   "source": [
    "y_test_zeros = pd.DataFrame(y_test)[0].value_counts()[0]\n",
    "y_test_ones = pd.DataFrame(y_test)[0].value_counts()[1]\n",
    "print(y_test_zeros, y_test_ones)\n",
    "\n",
    "from sklearn.metrics import plot_confusion_matrix\n",
    "titles_options = [(\"Confusion matrix\", None),\n",
    "                  (\"Normalized confusion matrix\", 'true')]\n",
    "for title, normalize in titles_options:\n",
    "    disp = plot_confusion_matrix(model, X_test, y_test,\n",
    "                                 cmap=plt.cm.Blues,\n",
    "                                 normalize=normalize)\n",
    "    disp.ax_.set_title(title)\n",
    "\n",
    "    print(title)\n",
    "    print(disp.confusion_matrix)\n",
    "\n",
    "\n"
   ]
  },
  {
   "cell_type": "code",
   "execution_count": 15,
   "metadata": {},
   "outputs": [
    {
     "data": {
      "text/plain": [
       "Text(0.5, 1.0, '2-class Precision-Recall curve: Average Precision=0.00')"
      ]
     },
     "execution_count": 15,
     "metadata": {},
     "output_type": "execute_result"
    },
    {
     "data": {
      "image/png": "[encoded data removed]",
      "text/plain": [
       "<Figure size 432x288 with 1 Axes>"
      ]
     },
     "metadata": {
      "needs_background": "light"
     },
     "output_type": "display_data"
    }
   ],
   "source": [
    "# PR curve focuses on the minority class, whereas the ROC curve covers both classes.\n",
    "from sklearn.metrics import average_precision_score\n",
    "from sklearn.metrics import precision_recall_curve\n",
    "from sklearn.metrics import plot_precision_recall_curve\n",
    "import matplotlib.pyplot as plt\n",
    "\n",
    "average_precision = average_precision_score(y_test, y_test_pred_proba[:,0])\n",
    "\n",
    "\n",
    "disp = plot_precision_recall_curve(model, X_test, y_test)\n",
    "disp.ax_.set_title('2-class Precision-Recall curve: '\n",
    "                   'Average Precision={0:0.2f}'.format(average_precision))"
   ]
  },
  {
   "cell_type": "code",
   "execution_count": 16,
   "metadata": {},
   "outputs": [
    {
     "name": "stdout",
     "output_type": "stream",
     "text": [
      "Counter({0: 190697, 1: 182})\n"
     ]
    },
    {
     "data": {
      "image/png": "[encoded data removed]",
      "text/plain": [
       "<Figure size 432x288 with 1 Axes>"
      ]
     },
     "metadata": {
      "needs_background": "light"
     },
     "output_type": "display_data"
    },
    {
     "data": {
      "text/html": [
       "<div>\n",
       "<style scoped>\n",
       "    .dataframe tbody tr th:only-of-type {\n",
       "        vertical-align: middle;\n",
       "    }\n",
       "\n",
       "    .dataframe tbody tr th {\n",
       "        vertical-align: top;\n",
       "    }\n",
       "\n",
       "    .dataframe thead th {\n",
       "        text-align: right;\n",
       "    }\n",
       "</style>\n",
       "<table border=\"1\" class=\"dataframe\">\n",
       "  <thead>\n",
       "    <tr style=\"text-align: right;\">\n",
       "      <th></th>\n",
       "      <th>pred</th>\n",
       "      <th>pred_prob</th>\n",
       "    </tr>\n",
       "  </thead>\n",
       "  <tbody>\n",
       "    <tr>\n",
       "      <th>589</th>\n",
       "      <td>1</td>\n",
       "      <td>1.000000</td>\n",
       "    </tr>\n",
       "    <tr>\n",
       "      <th>2092</th>\n",
       "      <td>1</td>\n",
       "      <td>0.590989</td>\n",
       "    </tr>\n",
       "    <tr>\n",
       "      <th>2735</th>\n",
       "      <td>1</td>\n",
       "      <td>1.000000</td>\n",
       "    </tr>\n",
       "    <tr>\n",
       "      <th>4033</th>\n",
       "      <td>1</td>\n",
       "      <td>0.550793</td>\n",
       "    </tr>\n",
       "    <tr>\n",
       "      <th>5908</th>\n",
       "      <td>1</td>\n",
       "      <td>1.000000</td>\n",
       "    </tr>\n",
       "  </tbody>\n",
       "</table>\n",
       "</div>"
      ],
      "text/plain": [
       "      pred  pred_prob\n",
       "589      1   1.000000\n",
       "2092     1   0.590989\n",
       "2735     1   1.000000\n",
       "4033     1   0.550793\n",
       "5908     1   1.000000"
      ]
     },
     "execution_count": 16,
     "metadata": {},
     "output_type": "execute_result"
    }
   ],
   "source": [
    "# summarize the distribution of class labels\n",
    "from collections import Counter\n",
    "print(Counter(y_test_pred))\n",
    "# create a histogram of the predicted probabilities of fraud = 1\n",
    "plt.hist(y_test_pred_proba[:,1], bins=10)\n",
    "plt.show()\n",
    "\n",
    "y_pred_df = pd.concat([pd.DataFrame(y_test_pred), pd.DataFrame(y_test_pred_proba[:,1])], axis=1)\n",
    "y_pred_df.columns = [\"pred\", \"pred_prob\"]\n",
    "\n",
    "y_pred_df[y_pred_df[\"pred\"]==1].head()\n",
    "\n"
   ]
  },
  {
   "cell_type": "code",
   "execution_count": 17,
   "metadata": {},
   "outputs": [
    {
     "data": {
      "text/html": [
       "<div>\n",
       "<style scoped>\n",
       "    .dataframe tbody tr th:only-of-type {\n",
       "        vertical-align: middle;\n",
       "    }\n",
       "\n",
       "    .dataframe tbody tr th {\n",
       "        vertical-align: top;\n",
       "    }\n",
       "\n",
       "    .dataframe thead th {\n",
       "        text-align: right;\n",
       "    }\n",
       "</style>\n",
       "<table border=\"1\" class=\"dataframe\">\n",
       "  <thead>\n",
       "    <tr style=\"text-align: right;\">\n",
       "      <th></th>\n",
       "      <th>pred</th>\n",
       "      <th>pred_prob</th>\n",
       "    </tr>\n",
       "  </thead>\n",
       "  <tbody>\n",
       "    <tr>\n",
       "      <th>0</th>\n",
       "      <td>0</td>\n",
       "      <td>0.000416</td>\n",
       "    </tr>\n",
       "    <tr>\n",
       "      <th>1</th>\n",
       "      <td>0</td>\n",
       "      <td>0.000178</td>\n",
       "    </tr>\n",
       "    <tr>\n",
       "      <th>2</th>\n",
       "      <td>0</td>\n",
       "      <td>0.000004</td>\n",
       "    </tr>\n",
       "    <tr>\n",
       "      <th>3</th>\n",
       "      <td>0</td>\n",
       "      <td>0.010003</td>\n",
       "    </tr>\n",
       "    <tr>\n",
       "      <th>4</th>\n",
       "      <td>0</td>\n",
       "      <td>0.000000</td>\n",
       "    </tr>\n",
       "  </tbody>\n",
       "</table>\n",
       "</div>"
      ],
      "text/plain": [
       "   pred  pred_prob\n",
       "0     0   0.000416\n",
       "1     0   0.000178\n",
       "2     0   0.000004\n",
       "3     0   0.010003\n",
       "4     0   0.000000"
      ]
     },
     "execution_count": 17,
     "metadata": {},
     "output_type": "execute_result"
    }
   ],
   "source": [
    "y_pred_df.head()"
   ]
  },
  {
   "cell_type": "markdown",
   "metadata": {},
   "source": [
    "## Potential solutions to highly imbalanced data:\n",
    "- Over/undersampling strategies\n",
    "- Ideally, we would want the business to provide or help us estimate the cost of failing to detect a case of fraud (False Negative) or flagging as such a transaction that is instead genuine (False Positive). We can then use this to build a **loss function** that can be passed to the model, either for training stage (ideal, see here: https://towardsdatascience.com/custom-loss-functions-for-gradient-boosting-f79c1b40466d) or for hyper-parameter tuning.\n",
    "\n"
   ]
  },
  {
   "cell_type": "code",
   "execution_count": 18,
   "metadata": {},
   "outputs": [],
   "source": [
    "## UDF for scoring in Spark\n",
    "# from dna_utils import SparkConfig\n",
    "# spark = SparkConfig(app_name=\"modelling\",).connect()\n",
    "\n",
    "# train_df = pd.DataFrame(columns = [\n",
    "#     'features', 'logistic_regression', 'gradient_boosting', 'random_forest'\n",
    "# ])\n",
    "\n",
    "# test_df = pd.DataFrame(columns = [\n",
    "#     'features', 'logistic_regression', 'gradient_boosting', 'random_forest'\n",
    "# ])\n",
    "\n",
    "# for i in range(len(all_features)):\n",
    "#     lr = joblib.load(f'../models/logisticRegression_{i+1}.pkl')\n",
    "#     gb = joblib.load(f'../models/gradientBoosting_{i+1}.pkl')\n",
    "#     rf = joblib.load(f'../models/randomForest_{i+1}.pkl')\n",
    "\n",
    "#     features = all_feats[:i+1]\n",
    "\n",
    "#     logistic_regression = roc_auc_score(y_train, lr.predict_proba(X_train)[:, 1])\n",
    "#     gradient_boosting = roc_auc_score(y_train, gb.predict_proba(X_train)[:, 1])\n",
    "#     random_forest = roc_auc_score(y_train, rf.predict_proba(X_train)[:, 1])\n",
    "\n",
    "#     train_df.loc[len(train_df)] = [\n",
    "#         i + 1, logistic_regression, gradient_boosting, random_forest\n",
    "#     ]\n",
    "\n",
    "\n",
    "#     @F.pandas_udf(returnType = T.ArrayType(T.DoubleType()))\n",
    "#     def predict_lr(*cols):\n",
    "#         X = pd.concat(cols, axis = 1)\n",
    "#         return pd.Series(row.tolist() for row in lr.predict_proba(X))\n",
    "\n",
    "#     @F.pandas_udf(returnType = T.ArrayType(T.DoubleType()))\n",
    "#     def predict_gb(*cols):\n",
    "#         X = pd.concat(cols, axis = 1)\n",
    "#         return pd.Series(row.tolist() for row in gb.predict_proba(X))\n",
    "\n",
    "#     @F.pandas_udf(returnType = T.ArrayType(T.DoubleType()))\n",
    "#     def predict_rf(*cols):\n",
    "#         X = pd.concat(cols, axis = 1)\n",
    "#         return pd.Series(row.tolist() for row in rf.predict_proba(X))\n",
    "\n",
    "#     df2 = spark.createDataFrame(df)\\\n",
    "#         .withColumn('lrPrediction', predict_lr(*features))\\\n",
    "#         .withColumn('gbPrediction', predict_gb(*features))\\\n",
    "#         .withColumn('rfPrediction', predict_rf(*features))\\\n",
    "#         [['target',\n",
    "#           F.col('lrPrediction')[1].alias('lr_prediction'),\n",
    "#           F.col('gbPrediction')[1].alias('gb_prediction'),\n",
    "#           F.col('rfPrediction')[1].alias('rf_prediction')\n",
    "#          ]]\\\n",
    "#         .toPandas()\n",
    "\n",
    "#     logistic_regression_test = roc_auc_score(df2['target'], df2['lr_prediction'])\n",
    "#     gradient_boosting_test = roc_auc_score(df2['target'], df2['gb_prediction'])\n",
    "#     random_forest_test = roc_auc_score(df2['target'], df2['rf_prediction'])\n",
    "\n",
    "#     test_df.loc[len(test_df)] = [\n",
    "#         i + 1, gradient_boosting_test, random_forest_test, logistic_regression_test\n",
    "#     ]\n",
    "\n",
    "#     print(i + 1, ' done')"
   ]
  },
  {
   "cell_type": "code",
   "execution_count": null,
   "metadata": {},
   "outputs": [],
   "source": []
  }
 ],
 "metadata": {
  "kernelspec": {
   "display_name": "Python 3",
   "language": "python",
   "name": "python3"
  },
  "language_info": {
   "codemirror_mode": {
    "name": "ipython",
    "version": 3
   },
   "file_extension": ".py",
   "mimetype": "text/x-python",
   "name": "python",
   "nbconvert_exporter": "python",
   "pygments_lexer": "ipython3",
   "version": "3.7.0"
  }
 },
 "nbformat": 4,
 "nbformat_minor": 2
}
