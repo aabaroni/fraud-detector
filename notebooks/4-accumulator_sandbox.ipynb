{
 "cells": [
  {
   "cell_type": "code",
   "execution_count": 1,
   "metadata": {},
   "outputs": [
    {
     "data": {
      "text/plain": [
       "['to_score_2021_06_13_12_15_29.csv', 'to_score_2021_06_13_12_15_28.csv']"
      ]
     },
     "execution_count": 1,
     "metadata": {},
     "output_type": "execute_result"
    }
   ],
   "source": [
    "###################################\n",
    "# Accumulator job scans for any new transactions in the\n",
    "# target folder and processes at a specified interval\n",
    "###################################\n",
    "\n",
    "import numpy as np\n",
    "import pandas as pd\n",
    "import os, sys\n",
    "import time\n",
    "\n",
    "sys.path.insert(0, '../automation/')\n",
    "from api_scorer import score_api\n",
    "\n",
    "scan_freq_seconds = 1\n",
    "\n",
    "#initial file scan\n",
    "files_earlier = []\n",
    "files_now = os.listdir(\"../data/automation_in\")\n",
    "files_now"
   ]
  },
  {
   "cell_type": "code",
   "execution_count": 2,
   "metadata": {},
   "outputs": [
    {
     "name": "stdout",
     "output_type": "stream",
     "text": [
      "0\n",
      "['to_score_2021_06_13_12_15_29.csv', 'to_score_2021_06_13_12_15_28.csv']\n",
      "1\n",
      "2\n",
      "3\n",
      "4\n",
      "5\n",
      "6\n",
      "7\n",
      "8\n",
      "9\n"
     ]
    }
   ],
   "source": [
    "\n",
    "# Infinite loop, will continue until user types ctrl-C to quit the application\n",
    "for i in range(10):\n",
    "    print(i)\n",
    "    if len(files_now) > len(files_earlier):\n",
    "\n",
    "        # list files to process\n",
    "        to_process = [x for x in files_now if x not in files_earlier]\n",
    "        print(to_process)\n",
    "        # update list\n",
    "        files_earlier = files_now\n",
    "\n",
    "        # call api with new file\n",
    "        score_api(to_process)\n",
    "\n",
    "    files_now = os.listdir(\"../data/automation_in\")\n",
    "    time.sleep(scan_freq_seconds)"
   ]
  },
  {
   "cell_type": "code",
   "execution_count": 7,
   "metadata": {},
   "outputs": [
    {
     "name": "stdout",
     "output_type": "stream",
     "text": [
      "2021-06-13 07:28:46.478839\n"
     ]
    }
   ],
   "source": []
  },
  {
   "cell_type": "code",
   "execution_count": null,
   "metadata": {},
   "outputs": [],
   "source": []
  }
 ],
 "metadata": {
  "kernelspec": {
   "display_name": "Python 3",
   "language": "python",
   "name": "python3"
  },
  "language_info": {
   "codemirror_mode": {
    "name": "ipython",
    "version": 3
   },
   "file_extension": ".py",
   "mimetype": "text/x-python",
   "name": "python",
   "nbconvert_exporter": "python",
   "pygments_lexer": "ipython3",
   "version": "3.7.0"
  }
 },
 "nbformat": 4,
 "nbformat_minor": 2
}
